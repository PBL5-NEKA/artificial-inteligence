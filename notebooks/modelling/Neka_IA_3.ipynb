{
  "cells": [
    {
      "cell_type": "markdown",
      "metadata": {
        "id": "jlwzTSNE-N2s"
      },
      "source": [
        "# Drowsinness"
      ]
    },
    {
      "cell_type": "markdown",
      "metadata": {
        "id": "ATnRtl5t-UV5"
      },
      "source": [
        "The objective is to say if a driver is tired or not, to avoid car accidents. The idea of this file is to preprocess face images to generate a model which is able to predict drowsiness."
      ]
    },
    {
      "cell_type": "markdown",
      "metadata": {
        "id": "pQzVLyueSLDw"
      },
      "source": [
        "### Imports"
      ]
    },
    {
      "cell_type": "code",
      "execution_count": null,
      "metadata": {
        "id": "hegiO1AlSWg_"
      },
      "outputs": [],
      "source": [
        "from google.colab import drive\n",
        "from matplotlib import pyplot as plt\n",
        "import tensorflow as tf\n",
        "from tensorflow import keras\n",
        "from sklearn.model_selection import train_test_split\n",
        "from tensorflow.keras import layers\n",
        "import cv2\n",
        "from google.colab.patches import cv2_imshow\n",
        "import numpy as np\n",
        "from google.colab import files\n",
        "from datetime import datetime"
      ]
    },
    {
      "cell_type": "markdown",
      "metadata": {
        "id": "bjS547KHUfUA"
      },
      "source": [
        "### Load Data"
      ]
    },
    {
      "cell_type": "markdown",
      "metadata": {
        "id": "BN2j_Cc5WFvp"
      },
      "source": [
        "Mount Google Drive"
      ]
    },
    {
      "cell_type": "code",
      "execution_count": 9,
      "metadata": {
        "colab": {
          "base_uri": "https://localhost:8080/"
        },
        "id": "bRbHs_GSgRlV",
        "outputId": "e1a11f4e-7be8-46ab-e01b-bbad737764d0"
      },
      "outputs": [
        {
          "output_type": "stream",
          "name": "stdout",
          "text": [
            "Mounted at /content/drive\n"
          ]
        }
      ],
      "source": [
        "drive.mount('/content/drive', force_remount=True) #se utiliza para montar Google Drive dentro del entorno de Colab. Esto permite acceder y manipular los archivos almacenados en tu Google Drive directamente desde tu cuaderno de Colab"
      ]
    },
    {
      "cell_type": "markdown",
      "metadata": {
        "id": "PPwrimwoWPB7"
      },
      "source": [
        "Images Directory"
      ]
    },
    {
      "cell_type": "code",
      "execution_count": null,
      "metadata": {
        "id": "19MJAKNHuTN2"
      },
      "outputs": [],
      "source": [
        "data_dir='/content/drive/Shareddrives/PBLayer/PBL5/01-Subjects/01-AdimenArtifiziala/Data/Processed/'"
      ]
    },
    {
      "cell_type": "markdown",
      "metadata": {
        "id": "BZFa5F60bnR0"
      },
      "source": [
        "##Load and split data"
      ]
    },
    {
      "cell_type": "code",
      "execution_count": 10,
      "metadata": {
        "colab": {
          "base_uri": "https://localhost:8080/"
        },
        "id": "P8MTu3cWbx9G",
        "outputId": "e799e0ad-f8e7-434b-a683-b5351bc834c2"
      },
      "outputs": [
        {
          "output_type": "stream",
          "name": "stdout",
          "text": [
            "Found 6797 files belonging to 2 classes.\n",
            "Using 5438 files for training.\n",
            "Using 1359 files for validation.\n"
          ]
        }
      ],
      "source": [
        "train_set, validation_set = tf.keras.utils.image_dataset_from_directory(\n",
        "        data_dir, #images directory\n",
        "        image_size=(64, 64), #images size\n",
        "        seed=1, # Especifica una semilla para la aleatorización. Esto se usa para garantizar que, si necesitas dividir el conjunto de datos en entrenamiento y validación de manera aleatoria, la división sea reproducible si se usa la misma semilla.\n",
        "        validation_split=0.2, #the percentage of data for validation\n",
        "        subset='both', #Esto significa que se creará un conjunto de datos que contendrá tanto los datos de entrenamiento como los de validación, dividiendo según el porcentaje especificado en validation_split\n",
        "    )"
      ]
    },
    {
      "cell_type": "markdown",
      "metadata": {
        "id": "w86Pg_tCcg0Z"
      },
      "source": [
        "##Preprocessing"
      ]
    },
    {
      "cell_type": "markdown",
      "source": [
        "Scaling"
      ],
      "metadata": {
        "id": "yoEnO759C_eQ"
      }
    },
    {
      "cell_type": "code",
      "execution_count": null,
      "metadata": {
        "id": "MUXDtzMCckkl"
      },
      "outputs": [],
      "source": [
        "train_set = train_set.map(lambda x,y:(x/255,y)) #train normalization\n",
        "validation_set = validation_set.map(lambda x,y:(x/255,y)) #validation normalization"
      ]
    },
    {
      "cell_type": "markdown",
      "metadata": {
        "id": "6Y8RZD-ebTv2"
      },
      "source": [
        "##Model with Convolutional Layers and Drop Out"
      ]
    },
    {
      "cell_type": "code",
      "execution_count": null,
      "metadata": {
        "id": "9QfRSJb8fwgV"
      },
      "outputs": [],
      "source": [
        "ModeloCNN2 = tf.keras.models.Sequential([\n",
        "    tf.keras.layers.Conv2D(32, (3, 3), activation='relu', input_shape=(64, 64, 3)), #agrega una capa de convolución con 32 filtros de tamaño 3x3, activada por la función de activación ReLU\n",
        "    tf.keras.layers.MaxPooling2D(2, 2), #Agrega una capa de Max Pooling para reducir la dimensionalidad espacial de la salida de la capa convolucional.\n",
        "    tf.keras.layers.Conv2D(64, (3, 3), activation='relu'),\n",
        "    tf.keras.layers.MaxPooling2D(2, 2),\n",
        "    tf.keras.layers.Conv2D(128, (3, 3), activation='relu'),\n",
        "    tf.keras.layers.MaxPooling2D(2, 2),\n",
        "    tf.keras.layers.Flatten(), #Esta capa aplana la salida de la última capa de convolución (transformándola en un vector unidimensional) para prepararla para las capas densamente conectadas.\n",
        "    tf.keras.layers.Dropout(0.5), #Agrega una capa de Dropout para ayudar a prevenir el sobreajuste, desactivando aleatoriamente el 50% de las neuronas durante el entrenamiento.\n",
        "    tf.keras.layers.Dense(256, activation='relu'), #Una capa densa con 256 neuronas y activación ReLU.\n",
        "    tf.keras.layers.Dense(1, activation='sigmoid') #Capa de salida con una sola neurona y activación sigmoide, comúnmente usada para problemas de clasificación binaria.\n",
        "])"
      ]
    },
    {
      "cell_type": "markdown",
      "metadata": {
        "id": "W0Ua8O6ObeZ6"
      },
      "source": [
        "##Training the CNN Model with Drop Out"
      ]
    },
    {
      "cell_type": "code",
      "execution_count": null,
      "metadata": {
        "colab": {
          "base_uri": "https://localhost:8080/"
        },
        "id": "biAnR5vMeb_u",
        "outputId": "ee6c1dbb-0697-40cf-cba0-76978e696422"
      },
      "outputs": [
        {
          "output_type": "stream",
          "name": "stdout",
          "text": [
            "Epoch 1/10\n",
            "170/170 [==============================] - 673s 3s/step - loss: 0.4745 - accuracy: 0.7685 - val_loss: 0.3317 - val_accuracy: 0.8506\n",
            "Epoch 2/10\n",
            "170/170 [==============================] - 51s 290ms/step - loss: 0.2949 - accuracy: 0.8733 - val_loss: 0.2436 - val_accuracy: 0.9021\n",
            "Epoch 3/10\n",
            "170/170 [==============================] - 48s 279ms/step - loss: 0.2302 - accuracy: 0.9036 - val_loss: 0.2159 - val_accuracy: 0.9161\n",
            "Epoch 4/10\n",
            "170/170 [==============================] - 49s 287ms/step - loss: 0.1938 - accuracy: 0.9193 - val_loss: 0.1838 - val_accuracy: 0.9205\n",
            "Epoch 5/10\n",
            "170/170 [==============================] - 48s 277ms/step - loss: 0.1778 - accuracy: 0.9226 - val_loss: 0.1655 - val_accuracy: 0.9294\n",
            "Epoch 6/10\n",
            "170/170 [==============================] - 49s 285ms/step - loss: 0.1672 - accuracy: 0.9272 - val_loss: 0.1799 - val_accuracy: 0.9242\n",
            "Epoch 7/10\n",
            "170/170 [==============================] - 50s 288ms/step - loss: 0.1419 - accuracy: 0.9402 - val_loss: 0.1736 - val_accuracy: 0.9352\n",
            "Epoch 8/10\n",
            "170/170 [==============================] - 49s 288ms/step - loss: 0.1325 - accuracy: 0.9441 - val_loss: 0.1583 - val_accuracy: 0.9345\n",
            "Epoch 9/10\n",
            "170/170 [==============================] - 47s 275ms/step - loss: 0.1249 - accuracy: 0.9476 - val_loss: 0.1578 - val_accuracy: 0.9286\n",
            "Epoch 10/10\n",
            "170/170 [==============================] - 49s 287ms/step - loss: 0.1129 - accuracy: 0.9513 - val_loss: 0.1504 - val_accuracy: 0.9426\n"
          ]
        },
        {
          "output_type": "execute_result",
          "data": {
            "text/plain": [
              "<keras.src.callbacks.History at 0x7a5298079c30>"
            ]
          },
          "metadata": {},
          "execution_count": 7
        }
      ],
      "source": [
        "log_dir = \"logs/fit/\" + datetime.now().strftime(\"%Y%m%d-%H%M%S\")\n",
        "tensorboard_callback = tf.keras.callbacks.TensorBoard(log_dir=log_dir, histogram_freq=1)\n",
        "ModeloCNN2.compile(optimizer='adam', loss='binary_crossentropy', metrics=['accuracy'])\n",
        "#optimizer='adam': Define el optimizador que se utilizará durante el entrenamiento del modelo. En este caso, se utiliza el optimizador Adam, que es un algoritmo de optimización popular y eficiente para entrenar redes neuronales.\n",
        "#loss='binary_crossentropy': Establece la función de pérdida que se utilizará para evaluar qué tan bien está aprendiendo el modelo durante el entrenamiento. En este caso, se emplea la función de pérdida 'binary_crossentropy', que es comúnmente usada para problemas de clasificación binaria.\n",
        "#metrics=['accuracy']: Especifica las métricas que se utilizarán para evaluar el rendimiento del modelo durante y después del entrenamiento.\n",
        "\n",
        "ModeloCNN2.fit(train_set, epochs=10, batch_size=32, validation_data=validation_set, callbacks=[tensorboard_callback])\n",
        "#train_set: Este es el conjunto de datos de entrenamiento que se utiliza para ajustar los pesos del modelo.\n",
        "#epochs=10: Indica la cantidad de veces que todo el conjunto de datos de entrenamiento se pasará hacia adelante y hacia atrás a través de la red neuronal durante el entrenamiento.\n",
        "#batch_size=32: Especifica el número de muestras que se utilizan en cada iteración de entrenamiento. El modelo se actualiza después de cada lote. En este caso, se utiliza un tamaño de lote de 32.\n",
        "#validation_data=validation_set: Aquí se proporciona el conjunto de datos de validación para evaluar el rendimiento del modelo en datos que no se utilizan en el entrenamiento. Esto ayuda a monitorear si el modelo está sobreajustando o generalizando bien.\n",
        "#callbacks=[tensorboard_callback]: Los callbacks son funciones que se llaman durante el entrenamiento en diferentes etapas. En este caso, se utiliza tensorboard_callback, que probablemente sea un objeto que se utiliza para guardar información de entrenamiento para su visualización en TensorBoard, una herramienta de visualización de TensorFlow."
      ]
    },
    {
      "cell_type": "markdown",
      "source": [
        "##Save the model"
      ],
      "metadata": {
        "id": "CFRsZrwBdeCZ"
      }
    },
    {
      "cell_type": "code",
      "execution_count": null,
      "metadata": {
        "id": "JFXxYW3de8df",
        "colab": {
          "base_uri": "https://localhost:8080/"
        },
        "outputId": "ce5ee802-8d15-4b58-cf8b-d35ecbe4bb70"
      },
      "outputs": [
        {
          "output_type": "stream",
          "name": "stdout",
          "text": [
            "Terminamos Modelo CNN\n"
          ]
        },
        {
          "output_type": "stream",
          "name": "stderr",
          "text": [
            "/usr/local/lib/python3.10/dist-packages/keras/src/engine/training.py:3103: UserWarning: You are saving your model as an HDF5 file via `model.save()`. This file format is considered legacy. We recommend using instead the native Keras format, e.g. `model.save('my_model.keras')`.\n",
            "  saving_api.save_model(\n"
          ]
        }
      ],
      "source": [
        "ModeloCNN2.save('/content/drive/Shareddrives/PBLayer/PBL5/01-Subjects/01-AdimenArtifiziala/Neka_IA_3.h5') #to save model --->.h5 format\n",
        "ModeloCNN2.save_weights('/content/drive/Shareddrives/PBLayer/PBL5/01-Subjects/01-AdimenArtifiziala/Neka_pesosIA_3.h5') #Esto no guarda la arquitectura o la configuración del modelo, solo los valores numéricos de los pesos que han sido aprendidos durante el entrenamiento.\n",
        "print('Saved model')"
      ]
    },
    {
      "cell_type": "markdown",
      "source": [
        "Pesos"
      ],
      "metadata": {
        "id": "OldBYqKqMtGb"
      }
    },
    {
      "cell_type": "markdown",
      "source": [
        " En una CNN, los pesos son matrices numéricas que representan la importancia y la relación entre las diferentes características (como bordes, texturas, etc.) presentes en las imágenes o datos de entrada.\n",
        "\n",
        "Los pesos se utilizan en las capas de la red neuronal para realizar operaciones matemáticas en los datos de entrada y producir salidas que se acerquen lo más posible a las salidas deseadas. Estos pesos son ajustados iterativamente durante el entrenamiento para minimizar la diferencia entre las predicciones del modelo y las etiquetas reales de los datos de entrenamiento."
      ],
      "metadata": {
        "id": "Rlt1EYIhMwZW"
      }
    }
  ],
  "metadata": {
    "colab": {
      "collapsed_sections": [
        "pQzVLyueSLDw",
        "bjS547KHUfUA"
      ],
      "provenance": []
    },
    "kernelspec": {
      "display_name": "Python 3",
      "name": "python3"
    },
    "language_info": {
      "name": "python"
    }
  },
  "nbformat": 4,
  "nbformat_minor": 0
}